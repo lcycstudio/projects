{
 "cells": [
  {
   "cell_type": "code",
   "execution_count": 1,
   "id": "41840d4b",
   "metadata": {},
   "outputs": [],
   "source": [
    "import os\n",
    "import django\n",
    "os.environ.setdefault('DJANGO_SETTINGS_MODULE', 'rest.settings')\n",
    "os.environ[\"DJANGO_ALLOW_ASYNC_UNSAFE\"] = \"true\"\n",
    "django.setup()"
   ]
  },
  {
   "cell_type": "code",
   "execution_count": 2,
   "id": "f2402cd3",
   "metadata": {},
   "outputs": [],
   "source": [
    "from course.models import Course, Student, Exam, InPersonCourse, OnlineCourse\n",
    "math = Course.objects.get(id=1)\n",
    "math.course_location"
   ]
  },
  {
   "cell_type": "code",
   "execution_count": 3,
   "id": "1fc28cbe",
   "metadata": {},
   "outputs": [],
   "source": [
    "math.students"
   ]
  },
  {
   "cell_type": "code",
   "execution_count": 4,
   "id": "604bd4e4",
   "metadata": {},
   "outputs": [],
   "source": [
    "math.is_in_person"
   ]
  },
  {
   "cell_type": "code",
   "execution_count": 5,
   "id": "14e5e1e7",
   "metadata": {},
   "outputs": [],
   "source": [
    "math.is_online"
   ]
  },
  {
   "cell_type": "code",
   "execution_count": 6,
   "id": "3166ac3c",
   "metadata": {},
   "outputs": [],
   "source": [
    "math.course_url"
   ]
  },
  {
   "cell_type": "code",
   "execution_count": 7,
   "id": "0b53c020",
   "metadata": {},
   "outputs": [],
   "source": [
    "math.course_url = 'math.com'\n",
    "math.course_url"
   ]
  },
  {
   "cell_type": "code",
   "execution_count": 8,
   "id": "7343cda7",
   "metadata": {},
   "outputs": [],
   "source": [
    "math.in_person_course.all()"
   ]
  },
  {
   "cell_type": "code",
   "execution_count": 9,
   "id": "43934d31",
   "metadata": {},
   "outputs": [],
   "source": [
    "math.online_course.all()"
   ]
  },
  {
   "cell_type": "code",
   "execution_count": 10,
   "id": "f7ec5d50",
   "metadata": {},
   "outputs": [],
   "source": [
    "physics = Course.objects.get(id=2)\n",
    "physics.students"
   ]
  },
  {
   "cell_type": "code",
   "execution_count": 11,
   "id": "8a002729",
   "metadata": {},
   "outputs": [],
   "source": [
    "amy = Student.objects.get(first_name='Amy', last_name='Willington', student_id='123')"
   ]
  },
  {
   "cell_type": "code",
   "execution_count": 12,
   "id": "9dc3e520",
   "metadata": {},
   "outputs": [],
   "source": [
    "amy.courses.all()"
   ]
  },
  {
   "cell_type": "code",
   "execution_count": 13,
   "id": "c6313df8",
   "metadata": {},
   "outputs": [
    {
     "data": {
      "text/plain": [
       "<QuerySet [<Exam: Math: 100>, <Exam: Physics: 100>, <Exam: Math: 99>, <Exam: Physics: 99>]>"
      ]
     },
     "execution_count": 13,
     "metadata": {},
     "output_type": "execute_result"
    }
   ],
   "source": [
    "amy.exams.all()"
   ]
  },
  {
   "cell_type": "code",
   "execution_count": 14,
   "id": "7b53b660",
   "metadata": {
    "scrolled": true
   },
   "outputs": [
    {
     "data": {
      "text/plain": [
       "<QuerySet [<Exam: Math: 100>, <Exam: Math: 99>, <Exam: Math: 98>, <Exam: Math: 97>]>"
      ]
     },
     "execution_count": 14,
     "metadata": {},
     "output_type": "execute_result"
    }
   ],
   "source": [
    "math_exams = Exam.objects.filter(course=math)\n",
    "math_exams"
   ]
  },
  {
   "cell_type": "code",
   "execution_count": 15,
   "id": "3373d6a2",
   "metadata": {},
   "outputs": [
    {
     "data": {
      "text/plain": [
       "<QuerySet [<Exam: Physics: 100>, <Exam: Physics: 99>, <Exam: Physics: 98>]>"
      ]
     },
     "execution_count": 15,
     "metadata": {},
     "output_type": "execute_result"
    }
   ],
   "source": [
    "physics_exams = Exam.objects.filter(course=physics)\n",
    "physics_exams"
   ]
  },
  {
   "cell_type": "code",
   "execution_count": 16,
   "id": "4a221cea",
   "metadata": {},
   "outputs": [
    {
     "data": {
      "text/plain": [
       "<QuerySet [<Course: Math>, <Course: Physics>]>"
      ]
     },
     "execution_count": 16,
     "metadata": {},
     "output_type": "execute_result"
    }
   ],
   "source": [
    "amy.get_courses"
   ]
  },
  {
   "cell_type": "code",
   "execution_count": 17,
   "id": "17176278",
   "metadata": {},
   "outputs": [
    {
     "data": {
      "text/plain": [
       "'Math'"
      ]
     },
     "execution_count": 17,
     "metadata": {},
     "output_type": "execute_result"
    }
   ],
   "source": [
    "amy.add_course(math)"
   ]
  },
  {
   "cell_type": "code",
   "execution_count": 18,
   "id": "d93fa61c",
   "metadata": {},
   "outputs": [
    {
     "data": {
      "text/plain": [
       "'Physics'"
      ]
     },
     "execution_count": 18,
     "metadata": {},
     "output_type": "execute_result"
    }
   ],
   "source": [
    "amy.add_course(physics)"
   ]
  },
  {
   "cell_type": "code",
   "execution_count": 19,
   "id": "ce3c2145",
   "metadata": {},
   "outputs": [
    {
     "data": {
      "text/plain": [
       "<QuerySet [<Course: Math>, <Course: Physics>]>"
      ]
     },
     "execution_count": 19,
     "metadata": {},
     "output_type": "execute_result"
    }
   ],
   "source": [
    "amy.get_courses"
   ]
  },
  {
   "cell_type": "code",
   "execution_count": 20,
   "id": "ab01abfb",
   "metadata": {},
   "outputs": [
    {
     "data": {
      "text/plain": [
       "<QuerySet [<Exam: Math: 100>, <Exam: Physics: 100>, <Exam: Math: 99>, <Exam: Physics: 99>]>"
      ]
     },
     "execution_count": 20,
     "metadata": {},
     "output_type": "execute_result"
    }
   ],
   "source": [
    "amy.get_exams"
   ]
  },
  {
   "cell_type": "code",
   "execution_count": 21,
   "id": "f0d5f4c0",
   "metadata": {},
   "outputs": [
    {
     "data": {
      "text/plain": [
       "'Math: 100'"
      ]
     },
     "execution_count": 21,
     "metadata": {},
     "output_type": "execute_result"
    }
   ],
   "source": [
    "amy.add_exam(math_exams[0])"
   ]
  },
  {
   "cell_type": "code",
   "execution_count": 22,
   "id": "66138a26",
   "metadata": {},
   "outputs": [
    {
     "data": {
      "text/plain": [
       "'Math: 99'"
      ]
     },
     "execution_count": 22,
     "metadata": {},
     "output_type": "execute_result"
    }
   ],
   "source": [
    "amy.add_exam(math_exams[1])"
   ]
  },
  {
   "cell_type": "code",
   "execution_count": 23,
   "id": "b19af926",
   "metadata": {},
   "outputs": [
    {
     "data": {
      "text/plain": [
       "'Physics: 100'"
      ]
     },
     "execution_count": 23,
     "metadata": {},
     "output_type": "execute_result"
    }
   ],
   "source": [
    "amy.add_exam(physics_exams[0])"
   ]
  },
  {
   "cell_type": "code",
   "execution_count": 24,
   "id": "3a721b11",
   "metadata": {},
   "outputs": [
    {
     "data": {
      "text/plain": [
       "'Physics: 99'"
      ]
     },
     "execution_count": 24,
     "metadata": {},
     "output_type": "execute_result"
    }
   ],
   "source": [
    "amy.add_exam(physics_exams[1])"
   ]
  },
  {
   "cell_type": "code",
   "execution_count": 25,
   "id": "65c73797",
   "metadata": {},
   "outputs": [
    {
     "data": {
      "text/plain": [
       "<QuerySet [<Exam: Math: 100>, <Exam: Physics: 100>, <Exam: Math: 99>, <Exam: Physics: 99>]>"
      ]
     },
     "execution_count": 25,
     "metadata": {},
     "output_type": "execute_result"
    }
   ],
   "source": [
    "amy.get_exams"
   ]
  },
  {
   "cell_type": "code",
   "execution_count": 26,
   "id": "c0cf1665",
   "metadata": {},
   "outputs": [
    {
     "data": {
      "text/plain": [
       "<QuerySet [<Exam: Physics: 100>, <Exam: Physics: 99>]>"
      ]
     },
     "execution_count": 26,
     "metadata": {},
     "output_type": "execute_result"
    }
   ],
   "source": [
    "get_exams = amy.get_exams\n",
    "get_exams.filter(course__title='Physics')"
   ]
  },
  {
   "cell_type": "code",
   "execution_count": 27,
   "id": "00d4cf09",
   "metadata": {},
   "outputs": [
    {
     "data": {
      "text/plain": [
       "<QuerySet [<Exam: Physics: 100>, <Exam: Physics: 99>]>"
      ]
     },
     "execution_count": 27,
     "metadata": {},
     "output_type": "execute_result"
    }
   ],
   "source": [
    "amy.filter_exams(title='Physics', grades=[98, 100])"
   ]
  },
  {
   "cell_type": "code",
   "execution_count": 28,
   "id": "353a76a0",
   "metadata": {},
   "outputs": [],
   "source": [
    "mike = Student.objects.get(first_name='Mike', last_name='Stein', student_id='234')"
   ]
  },
  {
   "cell_type": "code",
   "execution_count": 29,
   "id": "3ecd428d",
   "metadata": {},
   "outputs": [
    {
     "data": {
      "text/plain": [
       "'Physics: 98'"
      ]
     },
     "execution_count": 29,
     "metadata": {},
     "output_type": "execute_result"
    }
   ],
   "source": [
    "mike.add_course(math)\n",
    "mike.add_course(physics)\n",
    "mike.add_exam(math_exams[1])\n",
    "mike.add_exam(math_exams[2])\n",
    "mike.add_exam(physics_exams[1])\n",
    "mike.add_exam(physics_exams[2])"
   ]
  },
  {
   "cell_type": "code",
   "execution_count": 30,
   "id": "12dec3ef",
   "metadata": {},
   "outputs": [
    {
     "data": {
      "text/plain": [
       "<QuerySet [<Course: Math>, <Course: Physics>]>"
      ]
     },
     "execution_count": 30,
     "metadata": {},
     "output_type": "execute_result"
    }
   ],
   "source": [
    "mike.get_courses"
   ]
  },
  {
   "cell_type": "code",
   "execution_count": 31,
   "id": "8b4bc573",
   "metadata": {},
   "outputs": [
    {
     "data": {
      "text/plain": [
       "<QuerySet [<Exam: Math: 99>, <Exam: Physics: 99>, <Exam: Math: 98>, <Exam: Physics: 98>]>"
      ]
     },
     "execution_count": 31,
     "metadata": {},
     "output_type": "execute_result"
    }
   ],
   "source": [
    "mike.get_exams"
   ]
  },
  {
   "cell_type": "code",
   "execution_count": 32,
   "id": "d766560a",
   "metadata": {},
   "outputs": [
    {
     "data": {
      "text/plain": [
       "<QuerySet [<Exam: Math: 98>, <Exam: Physics: 98>]>"
      ]
     },
     "execution_count": 32,
     "metadata": {},
     "output_type": "execute_result"
    }
   ],
   "source": [
    "mike.filter_exams(grades=[98])"
   ]
  },
  {
   "cell_type": "code",
   "execution_count": 33,
   "id": "e1d10c62",
   "metadata": {},
   "outputs": [
    {
     "data": {
      "text/plain": [
       "<QuerySet [<Exam: Physics: 99>, <Exam: Physics: 98>]>"
      ]
     },
     "execution_count": 33,
     "metadata": {},
     "output_type": "execute_result"
    }
   ],
   "source": [
    "mike.filter_exams(title='Physics', grades=[98, 100])"
   ]
  },
  {
   "cell_type": "code",
   "execution_count": 34,
   "id": "40c88882",
   "metadata": {},
   "outputs": [
    {
     "data": {
      "text/plain": [
       "<QuerySet [<Exam: Math: 98>]>"
      ]
     },
     "execution_count": 34,
     "metadata": {},
     "output_type": "execute_result"
    }
   ],
   "source": [
    "mike.filter_exams(title='Math', grades=[98])"
   ]
  },
  {
   "cell_type": "code",
   "execution_count": 35,
   "id": "aa4e4741",
   "metadata": {},
   "outputs": [
    {
     "data": {
      "text/plain": [
       "<QuerySet [<Student: Mike Stein (234)>]>"
      ]
     },
     "execution_count": 35,
     "metadata": {},
     "output_type": "execute_result"
    }
   ],
   "source": [
    "exam = Exam.objects.filter(grade=98)[0]\n",
    "exam.students"
   ]
  },
  {
   "cell_type": "code",
   "execution_count": 36,
   "id": "82f85a15",
   "metadata": {},
   "outputs": [
    {
     "data": {
      "text/plain": [
       "<QuerySet [<Student: Amy Willington (123)>, <Student: Mike Stein (234)>]>"
      ]
     },
     "execution_count": 36,
     "metadata": {},
     "output_type": "execute_result"
    }
   ],
   "source": [
    "exam = Exam.objects.filter(grade=99)[0]\n",
    "exam.students"
   ]
  },
  {
   "cell_type": "code",
   "execution_count": 37,
   "id": "b4714d61",
   "metadata": {},
   "outputs": [
    {
     "data": {
      "text/plain": [
       "<QuerySet [<Exam: Math: 100>, <Exam: Math: 99>, <Exam: Math: 98>, <Exam: Math: 97>]>"
      ]
     },
     "execution_count": 37,
     "metadata": {},
     "output_type": "execute_result"
    }
   ],
   "source": [
    "math.get_exams"
   ]
  },
  {
   "cell_type": "code",
   "execution_count": 38,
   "id": "043ee89c",
   "metadata": {},
   "outputs": [
    {
     "data": {
      "text/plain": [
       "<Exam: Math: 97>"
      ]
     },
     "execution_count": 38,
     "metadata": {},
     "output_type": "execute_result"
    }
   ],
   "source": [
    "math.add_exam(97)"
   ]
  },
  {
   "cell_type": "code",
   "execution_count": null,
   "id": "75eedb8b",
   "metadata": {},
   "outputs": [],
   "source": []
  }
 ],
 "metadata": {
  "kernelspec": {
   "display_name": "Django Shell-Plus",
   "language": "python",
   "name": "django_extensions"
  },
  "language_info": {
   "codemirror_mode": {
    "name": "ipython",
    "version": 3
   },
   "file_extension": ".py",
   "mimetype": "text/x-python",
   "name": "python",
   "nbconvert_exporter": "python",
   "pygments_lexer": "ipython3",
   "version": "3.11.4"
  }
 },
 "nbformat": 4,
 "nbformat_minor": 5
}
